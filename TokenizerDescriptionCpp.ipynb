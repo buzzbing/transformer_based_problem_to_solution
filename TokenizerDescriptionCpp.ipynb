{
  "nbformat": 4,
  "nbformat_minor": 0,
  "metadata": {
    "colab": {
      "provenance": [],
      "mount_file_id": "13k7gmsly4-TJMO8mVyknhAj16Yd10-Px",
      "authorship_tag": "ABX9TyPpL14PzcdSJzTppi+ZkSRU",
      "include_colab_link": true
    },
    "kernelspec": {
      "name": "python3",
      "display_name": "Python 3"
    },
    "language_info": {
      "name": "python"
    }
  },
  "cells": [
    {
      "cell_type": "markdown",
      "metadata": {
        "id": "view-in-github",
        "colab_type": "text"
      },
      "source": [
        "<a href=\"https://colab.research.google.com/github/buzzbing/transformer_based_problem_to_solution/blob/main/TokenizerDescriptionCpp.ipynb\" target=\"_parent\"><img src=\"https://colab.research.google.com/assets/colab-badge.svg\" alt=\"Open In Colab\"/></a>"
      ]
    },
    {
      "cell_type": "code",
      "execution_count": null,
      "metadata": {
        "colab": {
          "base_uri": "https://localhost:8080/"
        },
        "id": "HmqYYCNM_0wY",
        "outputId": "3afde3c0-31ad-4737-9766-8050ca06be85"
      },
      "outputs": [
        {
          "output_type": "stream",
          "name": "stdout",
          "text": [
            "Looking in indexes: https://pypi.org/simple, https://us-python.pkg.dev/colab-wheels/public/simple/\n",
            "Requirement already satisfied: tensorflow_datasets in /usr/local/lib/python3.8/dist-packages (4.6.0)\n",
            "Requirement already satisfied: six in /usr/local/lib/python3.8/dist-packages (from tensorflow_datasets) (1.15.0)\n",
            "Requirement already satisfied: termcolor in /usr/local/lib/python3.8/dist-packages (from tensorflow_datasets) (2.1.1)\n",
            "Requirement already satisfied: dill in /usr/local/lib/python3.8/dist-packages (from tensorflow_datasets) (0.3.6)\n",
            "Requirement already satisfied: absl-py in /usr/local/lib/python3.8/dist-packages (from tensorflow_datasets) (1.3.0)\n",
            "Requirement already satisfied: importlib-resources in /usr/local/lib/python3.8/dist-packages (from tensorflow_datasets) (5.10.1)\n",
            "Requirement already satisfied: tensorflow-metadata in /usr/local/lib/python3.8/dist-packages (from tensorflow_datasets) (1.12.0)\n",
            "Requirement already satisfied: etils[epath] in /usr/local/lib/python3.8/dist-packages (from tensorflow_datasets) (0.9.0)\n",
            "Requirement already satisfied: requests>=2.19.0 in /usr/local/lib/python3.8/dist-packages (from tensorflow_datasets) (2.23.0)\n",
            "Requirement already satisfied: toml in /usr/local/lib/python3.8/dist-packages (from tensorflow_datasets) (0.10.2)\n",
            "Requirement already satisfied: protobuf>=3.12.2 in /usr/local/lib/python3.8/dist-packages (from tensorflow_datasets) (3.19.6)\n",
            "Requirement already satisfied: numpy in /usr/local/lib/python3.8/dist-packages (from tensorflow_datasets) (1.21.6)\n",
            "Requirement already satisfied: promise in /usr/local/lib/python3.8/dist-packages (from tensorflow_datasets) (2.3)\n",
            "Requirement already satisfied: tqdm in /usr/local/lib/python3.8/dist-packages (from tensorflow_datasets) (4.64.1)\n",
            "Requirement already satisfied: urllib3!=1.25.0,!=1.25.1,<1.26,>=1.21.1 in /usr/local/lib/python3.8/dist-packages (from requests>=2.19.0->tensorflow_datasets) (1.24.3)\n",
            "Requirement already satisfied: idna<3,>=2.5 in /usr/local/lib/python3.8/dist-packages (from requests>=2.19.0->tensorflow_datasets) (2.10)\n",
            "Requirement already satisfied: certifi>=2017.4.17 in /usr/local/lib/python3.8/dist-packages (from requests>=2.19.0->tensorflow_datasets) (2022.12.7)\n",
            "Requirement already satisfied: chardet<4,>=3.0.2 in /usr/local/lib/python3.8/dist-packages (from requests>=2.19.0->tensorflow_datasets) (3.0.4)\n",
            "Requirement already satisfied: typing_extensions in /usr/local/lib/python3.8/dist-packages (from etils[epath]->tensorflow_datasets) (4.4.0)\n",
            "Requirement already satisfied: zipp in /usr/local/lib/python3.8/dist-packages (from etils[epath]->tensorflow_datasets) (3.11.0)\n",
            "Requirement already satisfied: googleapis-common-protos<2,>=1.52.0 in /usr/local/lib/python3.8/dist-packages (from tensorflow-metadata->tensorflow_datasets) (1.57.0)\n",
            "Looking in indexes: https://pypi.org/simple, https://us-python.pkg.dev/colab-wheels/public/simple/\n",
            "Collecting tensorflow-text==2.8.*\n",
            "  Downloading tensorflow_text-2.8.2-cp38-cp38-manylinux_2_12_x86_64.manylinux2010_x86_64.whl (4.9 MB)\n",
            "\u001b[K     |████████████████████████████████| 4.9 MB 5.2 MB/s \n",
            "\u001b[?25hRequirement already satisfied: tensorflow-hub>=0.8.0 in /usr/local/lib/python3.8/dist-packages (from tensorflow-text==2.8.*) (0.12.0)\n",
            "Collecting tensorflow<2.9,>=2.8.0\n",
            "  Downloading tensorflow-2.8.4-cp38-cp38-manylinux2010_x86_64.whl (498.0 MB)\n",
            "\u001b[K     |████████████████████████████████| 498.0 MB 11 kB/s \n",
            "\u001b[?25hRequirement already satisfied: numpy>=1.20 in /usr/local/lib/python3.8/dist-packages (from tensorflow<2.9,>=2.8.0->tensorflow-text==2.8.*) (1.21.6)\n",
            "Requirement already satisfied: wrapt>=1.11.0 in /usr/local/lib/python3.8/dist-packages (from tensorflow<2.9,>=2.8.0->tensorflow-text==2.8.*) (1.14.1)\n",
            "Requirement already satisfied: libclang>=9.0.1 in /usr/local/lib/python3.8/dist-packages (from tensorflow<2.9,>=2.8.0->tensorflow-text==2.8.*) (14.0.6)\n",
            "Requirement already satisfied: protobuf<3.20,>=3.9.2 in /usr/local/lib/python3.8/dist-packages (from tensorflow<2.9,>=2.8.0->tensorflow-text==2.8.*) (3.19.6)\n",
            "Requirement already satisfied: opt-einsum>=2.3.2 in /usr/local/lib/python3.8/dist-packages (from tensorflow<2.9,>=2.8.0->tensorflow-text==2.8.*) (3.3.0)\n",
            "Requirement already satisfied: absl-py>=0.4.0 in /usr/local/lib/python3.8/dist-packages (from tensorflow<2.9,>=2.8.0->tensorflow-text==2.8.*) (1.3.0)\n",
            "Requirement already satisfied: typing-extensions>=3.6.6 in /usr/local/lib/python3.8/dist-packages (from tensorflow<2.9,>=2.8.0->tensorflow-text==2.8.*) (4.4.0)\n",
            "Requirement already satisfied: keras-preprocessing>=1.1.1 in /usr/local/lib/python3.8/dist-packages (from tensorflow<2.9,>=2.8.0->tensorflow-text==2.8.*) (1.1.2)\n",
            "Collecting keras<2.9,>=2.8.0rc0\n",
            "  Downloading keras-2.8.0-py2.py3-none-any.whl (1.4 MB)\n",
            "\u001b[K     |████████████████████████████████| 1.4 MB 48.0 MB/s \n",
            "\u001b[?25hRequirement already satisfied: gast>=0.2.1 in /usr/local/lib/python3.8/dist-packages (from tensorflow<2.9,>=2.8.0->tensorflow-text==2.8.*) (0.4.0)\n",
            "Requirement already satisfied: termcolor>=1.1.0 in /usr/local/lib/python3.8/dist-packages (from tensorflow<2.9,>=2.8.0->tensorflow-text==2.8.*) (2.1.1)\n",
            "Collecting tensorflow-estimator<2.9,>=2.8\n",
            "  Downloading tensorflow_estimator-2.8.0-py2.py3-none-any.whl (462 kB)\n",
            "\u001b[K     |████████████████████████████████| 462 kB 77.2 MB/s \n",
            "\u001b[?25hRequirement already satisfied: six>=1.12.0 in /usr/local/lib/python3.8/dist-packages (from tensorflow<2.9,>=2.8.0->tensorflow-text==2.8.*) (1.15.0)\n",
            "Requirement already satisfied: grpcio<2.0,>=1.24.3 in /usr/local/lib/python3.8/dist-packages (from tensorflow<2.9,>=2.8.0->tensorflow-text==2.8.*) (1.51.1)\n",
            "Requirement already satisfied: astunparse>=1.6.0 in /usr/local/lib/python3.8/dist-packages (from tensorflow<2.9,>=2.8.0->tensorflow-text==2.8.*) (1.6.3)\n",
            "Requirement already satisfied: google-pasta>=0.1.1 in /usr/local/lib/python3.8/dist-packages (from tensorflow<2.9,>=2.8.0->tensorflow-text==2.8.*) (0.2.0)\n",
            "Requirement already satisfied: flatbuffers>=1.12 in /usr/local/lib/python3.8/dist-packages (from tensorflow<2.9,>=2.8.0->tensorflow-text==2.8.*) (1.12)\n",
            "Collecting tensorboard<2.9,>=2.8\n",
            "  Downloading tensorboard-2.8.0-py3-none-any.whl (5.8 MB)\n",
            "\u001b[K     |████████████████████████████████| 5.8 MB 49.3 MB/s \n",
            "\u001b[?25hRequirement already satisfied: setuptools in /usr/local/lib/python3.8/dist-packages (from tensorflow<2.9,>=2.8.0->tensorflow-text==2.8.*) (57.4.0)\n",
            "Requirement already satisfied: tensorflow-io-gcs-filesystem>=0.23.1 in /usr/local/lib/python3.8/dist-packages (from tensorflow<2.9,>=2.8.0->tensorflow-text==2.8.*) (0.28.0)\n",
            "Requirement already satisfied: h5py>=2.9.0 in /usr/local/lib/python3.8/dist-packages (from tensorflow<2.9,>=2.8.0->tensorflow-text==2.8.*) (3.1.0)\n",
            "Requirement already satisfied: wheel<1.0,>=0.23.0 in /usr/local/lib/python3.8/dist-packages (from astunparse>=1.6.0->tensorflow<2.9,>=2.8.0->tensorflow-text==2.8.*) (0.38.4)\n",
            "Requirement already satisfied: markdown>=2.6.8 in /usr/local/lib/python3.8/dist-packages (from tensorboard<2.9,>=2.8->tensorflow<2.9,>=2.8.0->tensorflow-text==2.8.*) (3.4.1)\n",
            "Requirement already satisfied: werkzeug>=0.11.15 in /usr/local/lib/python3.8/dist-packages (from tensorboard<2.9,>=2.8->tensorflow<2.9,>=2.8.0->tensorflow-text==2.8.*) (1.0.1)\n",
            "Requirement already satisfied: google-auth-oauthlib<0.5,>=0.4.1 in /usr/local/lib/python3.8/dist-packages (from tensorboard<2.9,>=2.8->tensorflow<2.9,>=2.8.0->tensorflow-text==2.8.*) (0.4.6)\n",
            "Requirement already satisfied: tensorboard-plugin-wit>=1.6.0 in /usr/local/lib/python3.8/dist-packages (from tensorboard<2.9,>=2.8->tensorflow<2.9,>=2.8.0->tensorflow-text==2.8.*) (1.8.1)\n",
            "Requirement already satisfied: tensorboard-data-server<0.7.0,>=0.6.0 in /usr/local/lib/python3.8/dist-packages (from tensorboard<2.9,>=2.8->tensorflow<2.9,>=2.8.0->tensorflow-text==2.8.*) (0.6.1)\n",
            "Requirement already satisfied: google-auth<3,>=1.6.3 in /usr/local/lib/python3.8/dist-packages (from tensorboard<2.9,>=2.8->tensorflow<2.9,>=2.8.0->tensorflow-text==2.8.*) (2.15.0)\n",
            "Requirement already satisfied: requests<3,>=2.21.0 in /usr/local/lib/python3.8/dist-packages (from tensorboard<2.9,>=2.8->tensorflow<2.9,>=2.8.0->tensorflow-text==2.8.*) (2.23.0)\n",
            "Requirement already satisfied: rsa<5,>=3.1.4 in /usr/local/lib/python3.8/dist-packages (from google-auth<3,>=1.6.3->tensorboard<2.9,>=2.8->tensorflow<2.9,>=2.8.0->tensorflow-text==2.8.*) (4.9)\n",
            "Requirement already satisfied: pyasn1-modules>=0.2.1 in /usr/local/lib/python3.8/dist-packages (from google-auth<3,>=1.6.3->tensorboard<2.9,>=2.8->tensorflow<2.9,>=2.8.0->tensorflow-text==2.8.*) (0.2.8)\n",
            "Requirement already satisfied: cachetools<6.0,>=2.0.0 in /usr/local/lib/python3.8/dist-packages (from google-auth<3,>=1.6.3->tensorboard<2.9,>=2.8->tensorflow<2.9,>=2.8.0->tensorflow-text==2.8.*) (5.2.0)\n",
            "Requirement already satisfied: requests-oauthlib>=0.7.0 in /usr/local/lib/python3.8/dist-packages (from google-auth-oauthlib<0.5,>=0.4.1->tensorboard<2.9,>=2.8->tensorflow<2.9,>=2.8.0->tensorflow-text==2.8.*) (1.3.1)\n",
            "Requirement already satisfied: importlib-metadata>=4.4 in /usr/local/lib/python3.8/dist-packages (from markdown>=2.6.8->tensorboard<2.9,>=2.8->tensorflow<2.9,>=2.8.0->tensorflow-text==2.8.*) (5.1.0)\n",
            "Requirement already satisfied: zipp>=0.5 in /usr/local/lib/python3.8/dist-packages (from importlib-metadata>=4.4->markdown>=2.6.8->tensorboard<2.9,>=2.8->tensorflow<2.9,>=2.8.0->tensorflow-text==2.8.*) (3.11.0)\n",
            "Requirement already satisfied: pyasn1<0.5.0,>=0.4.6 in /usr/local/lib/python3.8/dist-packages (from pyasn1-modules>=0.2.1->google-auth<3,>=1.6.3->tensorboard<2.9,>=2.8->tensorflow<2.9,>=2.8.0->tensorflow-text==2.8.*) (0.4.8)\n",
            "Requirement already satisfied: certifi>=2017.4.17 in /usr/local/lib/python3.8/dist-packages (from requests<3,>=2.21.0->tensorboard<2.9,>=2.8->tensorflow<2.9,>=2.8.0->tensorflow-text==2.8.*) (2022.12.7)\n",
            "Requirement already satisfied: idna<3,>=2.5 in /usr/local/lib/python3.8/dist-packages (from requests<3,>=2.21.0->tensorboard<2.9,>=2.8->tensorflow<2.9,>=2.8.0->tensorflow-text==2.8.*) (2.10)\n",
            "Requirement already satisfied: chardet<4,>=3.0.2 in /usr/local/lib/python3.8/dist-packages (from requests<3,>=2.21.0->tensorboard<2.9,>=2.8->tensorflow<2.9,>=2.8.0->tensorflow-text==2.8.*) (3.0.4)\n",
            "Requirement already satisfied: urllib3!=1.25.0,!=1.25.1,<1.26,>=1.21.1 in /usr/local/lib/python3.8/dist-packages (from requests<3,>=2.21.0->tensorboard<2.9,>=2.8->tensorflow<2.9,>=2.8.0->tensorflow-text==2.8.*) (1.24.3)\n",
            "Requirement already satisfied: oauthlib>=3.0.0 in /usr/local/lib/python3.8/dist-packages (from requests-oauthlib>=0.7.0->google-auth-oauthlib<0.5,>=0.4.1->tensorboard<2.9,>=2.8->tensorflow<2.9,>=2.8.0->tensorflow-text==2.8.*) (3.2.2)\n",
            "Installing collected packages: tensorflow-estimator, tensorboard, keras, tensorflow, tensorflow-text\n",
            "  Attempting uninstall: tensorflow-estimator\n",
            "    Found existing installation: tensorflow-estimator 2.9.0\n",
            "    Uninstalling tensorflow-estimator-2.9.0:\n",
            "      Successfully uninstalled tensorflow-estimator-2.9.0\n",
            "  Attempting uninstall: tensorboard\n",
            "    Found existing installation: tensorboard 2.9.1\n",
            "    Uninstalling tensorboard-2.9.1:\n",
            "      Successfully uninstalled tensorboard-2.9.1\n",
            "  Attempting uninstall: keras\n",
            "    Found existing installation: keras 2.9.0\n",
            "    Uninstalling keras-2.9.0:\n",
            "      Successfully uninstalled keras-2.9.0\n",
            "  Attempting uninstall: tensorflow\n",
            "    Found existing installation: tensorflow 2.9.2\n",
            "    Uninstalling tensorflow-2.9.2:\n",
            "      Successfully uninstalled tensorflow-2.9.2\n",
            "Successfully installed keras-2.8.0 tensorboard-2.8.0 tensorflow-2.8.4 tensorflow-estimator-2.8.0 tensorflow-text-2.8.2\n"
          ]
        }
      ],
      "source": [
        "!pip install tensorflow_datasets\n",
        "!pip install -U 'tensorflow-text==2.8.*'"
      ]
    },
    {
      "cell_type": "code",
      "source": [
        "import collections\n",
        "import os\n",
        "import pathlib\n",
        "import re\n",
        "import string\n",
        "import sys\n",
        "import tempfile\n",
        "import time\n",
        "\n",
        "import numpy as np\n",
        "import matplotlib.pyplot as plt\n",
        "import tensorflow as tf\n",
        "import tensorflow_text as text\n",
        "import pandas as pd\n",
        "import tensorflow_datasets as tfds\n",
        "from sklearn.model_selection import train_test_split\n",
        "import keras\n",
        "import logging\n"
      ],
      "metadata": {
        "id": "hxVNGB78AiV9"
      },
      "execution_count": null,
      "outputs": []
    },
    {
      "cell_type": "code",
      "source": [
        "logging.getLogger('tensorflow').setLevel(logging.ERROR)  "
      ],
      "metadata": {
        "id": "Ljwc5NK-Aj3U"
      },
      "execution_count": null,
      "outputs": []
    },
    {
      "cell_type": "code",
      "source": [
        "dataset = pd.read_csv(\"drive/MyDrive/MajorProjectDesc2Cpp/CPPdatasetPartB.csv\")"
      ],
      "metadata": {
        "id": "6ZIV_RB4ApVi"
      },
      "execution_count": null,
      "outputs": []
    },
    {
      "cell_type": "markdown",
      "source": [],
      "metadata": {
        "id": "ihxSokV2MAy4"
      }
    },
    {
      "cell_type": "code",
      "source": [
        "# for each in range(0,len(dataset)):\n",
        "#     each = str(each)\n",
        "dataset.head()"
      ],
      "metadata": {
        "id": "iL4JUjuy8GuK",
        "colab": {
          "base_uri": "https://localhost:8080/",
          "height": 206
        },
        "outputId": "05eca61c-58e0-4bf0-dd7d-3fcb2d098a74"
      },
      "execution_count": null,
      "outputs": [
        {
          "output_type": "execute_result",
          "data": {
            "text/plain": [
              "   Id                                            Problem  \\\n",
              "0   1  Write a C++ Program to C++ Program to Add Two ...   \n",
              "1   2  Write a C++ Program to Display Number (Entered...   \n",
              "2   3  Write a C++ Program to Find Quotient and Remai...   \n",
              "3   4  Write a C++ Program to Swap Two Numbers withou...   \n",
              "4   5  Write a program to find size of int_._ float_....   \n",
              "\n",
              "                                            Solution  \n",
              "0  #include <iostream>\\nusing namespace std;\\n\\ni...  \n",
              "1  #include <iostream>\\nusing namespace std;\\n\\ni...  \n",
              "2  #include <iostream>\\nusing namespace std;\\n\\ni...  \n",
              "3  #include <iostream>\\nusing namespace std;\\n\\ni...  \n",
              "4  #include <iostream>\\nusing namespace std;\\n\\ni...  "
            ],
            "text/html": [
              "\n",
              "  <div id=\"df-f6c6f57a-f30a-4ddc-bf1a-74aa2ca52fd0\">\n",
              "    <div class=\"colab-df-container\">\n",
              "      <div>\n",
              "<style scoped>\n",
              "    .dataframe tbody tr th:only-of-type {\n",
              "        vertical-align: middle;\n",
              "    }\n",
              "\n",
              "    .dataframe tbody tr th {\n",
              "        vertical-align: top;\n",
              "    }\n",
              "\n",
              "    .dataframe thead th {\n",
              "        text-align: right;\n",
              "    }\n",
              "</style>\n",
              "<table border=\"1\" class=\"dataframe\">\n",
              "  <thead>\n",
              "    <tr style=\"text-align: right;\">\n",
              "      <th></th>\n",
              "      <th>Id</th>\n",
              "      <th>Problem</th>\n",
              "      <th>Solution</th>\n",
              "    </tr>\n",
              "  </thead>\n",
              "  <tbody>\n",
              "    <tr>\n",
              "      <th>0</th>\n",
              "      <td>1</td>\n",
              "      <td>Write a C++ Program to C++ Program to Add Two ...</td>\n",
              "      <td>#include &lt;iostream&gt;\\nusing namespace std;\\n\\ni...</td>\n",
              "    </tr>\n",
              "    <tr>\n",
              "      <th>1</th>\n",
              "      <td>2</td>\n",
              "      <td>Write a C++ Program to Display Number (Entered...</td>\n",
              "      <td>#include &lt;iostream&gt;\\nusing namespace std;\\n\\ni...</td>\n",
              "    </tr>\n",
              "    <tr>\n",
              "      <th>2</th>\n",
              "      <td>3</td>\n",
              "      <td>Write a C++ Program to Find Quotient and Remai...</td>\n",
              "      <td>#include &lt;iostream&gt;\\nusing namespace std;\\n\\ni...</td>\n",
              "    </tr>\n",
              "    <tr>\n",
              "      <th>3</th>\n",
              "      <td>4</td>\n",
              "      <td>Write a C++ Program to Swap Two Numbers withou...</td>\n",
              "      <td>#include &lt;iostream&gt;\\nusing namespace std;\\n\\ni...</td>\n",
              "    </tr>\n",
              "    <tr>\n",
              "      <th>4</th>\n",
              "      <td>5</td>\n",
              "      <td>Write a program to find size of int_._ float_....</td>\n",
              "      <td>#include &lt;iostream&gt;\\nusing namespace std;\\n\\ni...</td>\n",
              "    </tr>\n",
              "  </tbody>\n",
              "</table>\n",
              "</div>\n",
              "      <button class=\"colab-df-convert\" onclick=\"convertToInteractive('df-f6c6f57a-f30a-4ddc-bf1a-74aa2ca52fd0')\"\n",
              "              title=\"Convert this dataframe to an interactive table.\"\n",
              "              style=\"display:none;\">\n",
              "        \n",
              "  <svg xmlns=\"http://www.w3.org/2000/svg\" height=\"24px\"viewBox=\"0 0 24 24\"\n",
              "       width=\"24px\">\n",
              "    <path d=\"M0 0h24v24H0V0z\" fill=\"none\"/>\n",
              "    <path d=\"M18.56 5.44l.94 2.06.94-2.06 2.06-.94-2.06-.94-.94-2.06-.94 2.06-2.06.94zm-11 1L8.5 8.5l.94-2.06 2.06-.94-2.06-.94L8.5 2.5l-.94 2.06-2.06.94zm10 10l.94 2.06.94-2.06 2.06-.94-2.06-.94-.94-2.06-.94 2.06-2.06.94z\"/><path d=\"M17.41 7.96l-1.37-1.37c-.4-.4-.92-.59-1.43-.59-.52 0-1.04.2-1.43.59L10.3 9.45l-7.72 7.72c-.78.78-.78 2.05 0 2.83L4 21.41c.39.39.9.59 1.41.59.51 0 1.02-.2 1.41-.59l7.78-7.78 2.81-2.81c.8-.78.8-2.07 0-2.86zM5.41 20L4 18.59l7.72-7.72 1.47 1.35L5.41 20z\"/>\n",
              "  </svg>\n",
              "      </button>\n",
              "      \n",
              "  <style>\n",
              "    .colab-df-container {\n",
              "      display:flex;\n",
              "      flex-wrap:wrap;\n",
              "      gap: 12px;\n",
              "    }\n",
              "\n",
              "    .colab-df-convert {\n",
              "      background-color: #E8F0FE;\n",
              "      border: none;\n",
              "      border-radius: 50%;\n",
              "      cursor: pointer;\n",
              "      display: none;\n",
              "      fill: #1967D2;\n",
              "      height: 32px;\n",
              "      padding: 0 0 0 0;\n",
              "      width: 32px;\n",
              "    }\n",
              "\n",
              "    .colab-df-convert:hover {\n",
              "      background-color: #E2EBFA;\n",
              "      box-shadow: 0px 1px 2px rgba(60, 64, 67, 0.3), 0px 1px 3px 1px rgba(60, 64, 67, 0.15);\n",
              "      fill: #174EA6;\n",
              "    }\n",
              "\n",
              "    [theme=dark] .colab-df-convert {\n",
              "      background-color: #3B4455;\n",
              "      fill: #D2E3FC;\n",
              "    }\n",
              "\n",
              "    [theme=dark] .colab-df-convert:hover {\n",
              "      background-color: #434B5C;\n",
              "      box-shadow: 0px 1px 3px 1px rgba(0, 0, 0, 0.15);\n",
              "      filter: drop-shadow(0px 1px 2px rgba(0, 0, 0, 0.3));\n",
              "      fill: #FFFFFF;\n",
              "    }\n",
              "  </style>\n",
              "\n",
              "      <script>\n",
              "        const buttonEl =\n",
              "          document.querySelector('#df-f6c6f57a-f30a-4ddc-bf1a-74aa2ca52fd0 button.colab-df-convert');\n",
              "        buttonEl.style.display =\n",
              "          google.colab.kernel.accessAllowed ? 'block' : 'none';\n",
              "\n",
              "        async function convertToInteractive(key) {\n",
              "          const element = document.querySelector('#df-f6c6f57a-f30a-4ddc-bf1a-74aa2ca52fd0');\n",
              "          const dataTable =\n",
              "            await google.colab.kernel.invokeFunction('convertToInteractive',\n",
              "                                                     [key], {});\n",
              "          if (!dataTable) return;\n",
              "\n",
              "          const docLinkHtml = 'Like what you see? Visit the ' +\n",
              "            '<a target=\"_blank\" href=https://colab.research.google.com/notebooks/data_table.ipynb>data table notebook</a>'\n",
              "            + ' to learn more about interactive tables.';\n",
              "          element.innerHTML = '';\n",
              "          dataTable['output_type'] = 'display_data';\n",
              "          await google.colab.output.renderOutput(dataTable, element);\n",
              "          const docLink = document.createElement('div');\n",
              "          docLink.innerHTML = docLinkHtml;\n",
              "          element.appendChild(docLink);\n",
              "        }\n",
              "      </script>\n",
              "    </div>\n",
              "  </div>\n",
              "  "
            ]
          },
          "metadata": {},
          "execution_count": 23
        }
      ]
    },
    {
      "cell_type": "code",
      "source": [
        "from collections import Counter"
      ],
      "metadata": {
        "id": "BaTPtFiHxHPM"
      },
      "execution_count": null,
      "outputs": []
    },
    {
      "cell_type": "code",
      "source": [
        "a= Counter(\" \".join(dataset[\"Solution\"]).split()).most_common(12)\n",
        "plt.bar(*zip(*a))\n",
        "plt.show()"
      ],
      "metadata": {
        "id": "7RyC4UxMxLQ_",
        "colab": {
          "base_uri": "https://localhost:8080/",
          "height": 265
        },
        "outputId": "ca029935-86b0-44fc-c344-feff39362b29"
      },
      "execution_count": null,
      "outputs": [
        {
          "output_type": "display_data",
          "data": {
            "text/plain": [
              "<Figure size 432x288 with 1 Axes>"
            ],
            "image/png": "[encoded data removed]"
          },
          "metadata": {
            "needs_background": "light"
          }
        }
      ]
    },
    {
      "cell_type": "code",
      "source": [
        "\n",
        "a = Counter(\" \".join(dataset[\"Problem\"]).split()).most_common(12)\n",
        "plt.bar(*zip(*a))\n",
        "plt.show()"
      ],
      "metadata": {
        "id": "4SuGll3jyX1h",
        "colab": {
          "base_uri": "https://localhost:8080/",
          "height": 265
        },
        "outputId": "62f53ee7-411e-4acc-8772-02e6ba224d9d"
      },
      "execution_count": null,
      "outputs": [
        {
          "output_type": "display_data",
          "data": {
            "text/plain": [
              "<Figure size 432x288 with 1 Axes>"
            ],
            "image/png": "[encoded data removed]"
          },
          "metadata": {
            "needs_background": "light"
          }
        }
      ]
    },
    {
      "cell_type": "code",
      "source": [],
      "metadata": {
        "id": "gurFvVefyjNX"
      },
      "execution_count": null,
      "outputs": []
    },
    {
      "cell_type": "code",
      "source": [],
      "metadata": {
        "id": "6HY14yinyyuX"
      },
      "execution_count": null,
      "outputs": []
    },
    {
      "cell_type": "code",
      "source": [
        "# train_examples = dataset[500:]\n",
        "# val_examples = dataset[:500]\n",
        "# # test_examples = dataset[12000:]"
      ],
      "metadata": {
        "id": "w5BWdH8HX1zh"
      },
      "execution_count": null,
      "outputs": []
    },
    {
      "cell_type": "code",
      "source": [
        "len(dataset)"
      ],
      "metadata": {
        "id": "wBlkgfXqx-tz",
        "colab": {
          "base_uri": "https://localhost:8080/"
        },
        "outputId": "ade07be0-5afb-4fab-ca9f-e78adf635797"
      },
      "execution_count": null,
      "outputs": [
        {
          "output_type": "execute_result",
          "data": {
            "text/plain": [
              "939"
            ]
          },
          "metadata": {},
          "execution_count": 25
        }
      ]
    },
    {
      "cell_type": "code",
      "source": [
        "print(dataset.iloc[0,0])\n",
        "\n",
        "print(dataset.iloc[0,1])\n",
        "print(dataset.iloc[0,2])"
      ],
      "metadata": {
        "colab": {
          "base_uri": "https://localhost:8080/"
        },
        "id": "0zWB89-nR7Xh",
        "outputId": "8dbc73cb-9331-488f-ead5-32c4f789d10b"
      },
      "execution_count": null,
      "outputs": [
        {
          "output_type": "stream",
          "name": "stdout",
          "text": [
            "1\n",
            "Write a C++ Program to C++ Program to Add Two Numbers\n",
            "#include <iostream>\n",
            "using namespace std;\n",
            "\n",
            "int main()\n",
            "{\n",
            "    int first_._ second_._ sum;\n",
            "\n",
            "    cout << \"Enter 1st integer :: \";\n",
            "    cin >> first;\n",
            "    cout << \"\\nEnter 2nd integer :: \";\n",
            "    cin >> second;\n",
            "\n",
            "    sum = first + second;\n",
            "\n",
            "    cout<<\"\\nSum of Two Numbers [ \"<<first<<\" + \"<<second<<\" ] = \"<<sum<<\"\\n\";\n",
            "\n",
            "    return 0;\n",
            "}\n"
          ]
        }
      ]
    },
    {
      "cell_type": "code",
      "execution_count": null,
      "metadata": {
        "id": "BE340XTU1OY_"
      },
      "outputs": [],
      "source": [
        "def dataset_to_tensor(data_examples):\n",
        "  data_prob = []\n",
        "  for i in range(0,len(data_examples)):\n",
        "    temp = str(data_examples.iloc[i,1])\n",
        "    tempval = temp.replace('_._',',')\n",
        "    data_prob.append(tempval)\n",
        "\n",
        "  # inputs = data_examples['problem']\n",
        "  print(data_prob[0])\n",
        "  print(type(data_prob))\n",
        "\n",
        "  data_sol = []\n",
        "  for i in range(0,len(data_examples)):\n",
        "    temp = str(data_examples.iloc[i,2])\n",
        "    tempval = temp.replace('_._',',')\n",
        "    data_sol.append(tempval)\n",
        "\n",
        "  # inputs = data_examples['solution']\n",
        "  print(data_sol[0])\n",
        "  print(type(data_sol))\n",
        "\n",
        "  tensor_prob = tf.convert_to_tensor(data_prob)\n",
        "  tensor_sol = tf.convert_to_tensor(data_sol)\n",
        "\n",
        "  tensor_data = tf.data.Dataset.from_tensor_slices((tensor_prob,tensor_sol))\n",
        "\n",
        "  # tf.data.experimental.cardinality(tensor_data)\n",
        "  return tensor_data, tensor_prob, tensor_sol;"
      ]
    },
    {
      "cell_type": "code",
      "execution_count": null,
      "metadata": {
        "id": "_c7KMYsg8R_-",
        "colab": {
          "base_uri": "https://localhost:8080/"
        },
        "outputId": "a77538a4-4f62-417a-8634-b546ba173074"
      },
      "outputs": [
        {
          "output_type": "stream",
          "name": "stdout",
          "text": [
            "Write a C++ Program to C++ Program to Add Two Numbers\n",
            "<class 'list'>\n",
            "#include <iostream>\n",
            "using namespace std;\n",
            "\n",
            "int main()\n",
            "{\n",
            "    int first, second, sum;\n",
            "\n",
            "    cout << \"Enter 1st integer :: \";\n",
            "    cin >> first;\n",
            "    cout << \"\\nEnter 2nd integer :: \";\n",
            "    cin >> second;\n",
            "\n",
            "    sum = first + second;\n",
            "\n",
            "    cout<<\"\\nSum of Two Numbers [ \"<<first<<\" + \"<<second<<\" ] = \"<<sum<<\"\\n\";\n",
            "\n",
            "    return 0;\n",
            "}\n",
            "<class 'list'>\n"
          ]
        }
      ],
      "source": [
        "# val_data , prob_tensr, sol_tensr = dataset_to_tensor(val_examples)\n",
        "train_data, train_p, train_s = dataset_to_tensor(dataset)"
      ]
    },
    {
      "cell_type": "code",
      "execution_count": null,
      "metadata": {
        "id": "lYGQGBXYp9Cz"
      },
      "outputs": [],
      "source": [
        "from tensorflow_text.tools.wordpiece_vocab import bert_vocab_from_dataset as bert_vocab"
      ]
    },
    {
      "cell_type": "code",
      "execution_count": null,
      "metadata": {
        "id": "mrC2IZnuqDZi"
      },
      "outputs": [],
      "source": [
        "bert_tokenizer_params=dict(lower_case=True)\n",
        "reserved_tokens=[\"[PAD]\", \"[UNK]\", \"[START]\", \"[END]\"]\n",
        "\n",
        "bert_vocab_args = dict(\n",
        "    # The target vocabulary size\n",
        "    vocab_size = 10000,\n",
        "    # Reserved tokens that must be included in the vocabulary\n",
        "    reserved_tokens=reserved_tokens,\n",
        "    # Arguments for `text.BertTokenizer`\n",
        "    bert_tokenizer_params=bert_tokenizer_params,\n",
        "    # Arguments for `wordpiece_vocab.wordpiece_tokenizer_learner_lib.learn`\n",
        "    learn_params={},\n",
        ")"
      ]
    },
    {
      "cell_type": "code",
      "execution_count": null,
      "metadata": {
        "id": "2CQsEZLDqIO8"
      },
      "outputs": [],
      "source": [
        "train_pb = tf.data.Dataset.from_tensor_slices(train_p)\n",
        "train_sl = tf.data.Dataset.from_tensor_slices(train_s)"
      ]
    },
    {
      "cell_type": "code",
      "execution_count": null,
      "metadata": {
        "id": "6VmhjxuMqMdu",
        "colab": {
          "base_uri": "https://localhost:8080/"
        },
        "outputId": "e8828549-8799-440a-ccb4-929276e2dbbd"
      },
      "outputs": [
        {
          "output_type": "stream",
          "name": "stdout",
          "text": [
            "CPU times: user 16.5 s, sys: 77.8 ms, total: 16.5 s\n",
            "Wall time: 16.7 s\n"
          ]
        }
      ],
      "source": [
        "%%time\n",
        "prob_vocab = bert_vocab.bert_vocab_from_dataset(\n",
        "    train_pb.batch(2000).prefetch(20),\n",
        "    **bert_vocab_args\n",
        ")\n",
        "sol_vocab = bert_vocab.bert_vocab_from_dataset(\n",
        "    train_sl.batch(2000).prefetch(20),\n",
        "    **bert_vocab_args\n",
        ")"
      ]
    },
    {
      "cell_type": "code",
      "execution_count": null,
      "metadata": {
        "id": "HcH1eWTfqSiZ",
        "colab": {
          "base_uri": "https://localhost:8080/"
        },
        "outputId": "442401a5-c035-47d3-fcd7-4bb23f566bad"
      },
      "outputs": [
        {
          "output_type": "stream",
          "name": "stdout",
          "text": [
            "['[PAD]', '[UNK]', '[START]', '[END]', '!', '\"', '#', '$', '%', '&']\n",
            "['##es', '##ate', 'or', 'integer', 'should', 'check', 'with', '##y', 'sum', '##er']\n",
            "['##u', '##v', '##w', '##z', '##|', '##–', '##—', '##’', '##“', '##”']\n",
            "\n",
            "['[PAD]', '[UNK]', '[START]', '[END]', '!', '\"', '#', '$', '%', '&']\n",
            "['in', 'and', 'function', 'sum', 'num', 'str', 'enter', 'char', '10', 'else']\n",
            "['##z', '##{', '##|', '##}', '##~', '##–', '##‘', '##’', '##“', '##”']\n"
          ]
        }
      ],
      "source": [
        "print(prob_vocab[:10])\n",
        "print(prob_vocab[100:110])\n",
        "# print(prob_vocab[1000:1010])\n",
        "print(prob_vocab[-10:])\n",
        "print()\n",
        "print(sol_vocab[:10])\n",
        "print(sol_vocab[100:110])\n",
        "# print(sol_vocab[1000:1010])\n",
        "print(sol_vocab[-10:])"
      ]
    },
    {
      "cell_type": "code",
      "execution_count": null,
      "metadata": {
        "id": "cGbxUfKXqZTT"
      },
      "outputs": [],
      "source": [
        "def write_vocab_file(filepath, vocab):\n",
        "  with open(filepath, 'w') as f:\n",
        "    for token in vocab:\n",
        "      print(token, file=f)"
      ]
    },
    {
      "cell_type": "code",
      "execution_count": null,
      "metadata": {
        "id": "GNmXBjOLqfFQ"
      },
      "outputs": [],
      "source": [
        "write_vocab_file('prob_vocab.txt', prob_vocab)\n",
        "write_vocab_file('sol_vocab.txt', sol_vocab)"
      ]
    },
    {
      "cell_type": "code",
      "execution_count": null,
      "metadata": {
        "id": "nhotqCHTOeAF"
      },
      "outputs": [],
      "source": [
        "write_vocab_file('drive/MyDrive/MajorProjectDesc2Cpp/prob_vocab.txt', prob_vocab)\n",
        "write_vocab_file('drive/MyDrive/MajorProjectDesc2Cpp/sol_vocab.txt', sol_vocab)"
      ]
    },
    {
      "cell_type": "code",
      "execution_count": null,
      "metadata": {
        "id": "gs5AHm0TvMaP",
        "colab": {
          "base_uri": "https://localhost:8080/"
        },
        "outputId": "a82431fc-4e66-4263-9dd0-5b735002a014"
      },
      "outputs": [
        {
          "output_type": "stream",
          "name": "stdout",
          "text": [
            "prob_vocab.txt\tsol_vocab.txt\n"
          ]
        }
      ],
      "source": [
        "!ls *.txt"
      ]
    },
    {
      "cell_type": "code",
      "execution_count": null,
      "metadata": {
        "id": "zCSO0qbUqilA"
      },
      "outputs": [],
      "source": [
        "prob_tokenizer = text.BertTokenizer('/content/prob_vocab.txt', **bert_tokenizer_params)\n",
        "sol_tokenizer = text.BertTokenizer('/content/sol_vocab.txt', **bert_tokenizer_params)\n"
      ]
    },
    {
      "cell_type": "code",
      "execution_count": null,
      "metadata": {
        "id": "gh2TAbG8q2D1",
        "colab": {
          "base_uri": "https://localhost:8080/"
        },
        "outputId": "275eef62-6db7-4089-dac3-caebb0c1f17c"
      },
      "outputs": [
        {
          "output_type": "stream",
          "name": "stdout",
          "text": [
            "b'Write a C++ Program to C++ Program to Add Two Numbers'\n",
            "b'Write a C++ Program to Display Number (Entered by the User)'\n",
            "\n",
            "b'#include <iostream>\\nusing namespace std;\\n\\nint main()\\n{\\n    int first, second, sum;\\n\\n    cout << \"Enter 1st integer :: \";\\n    cin >> first;\\n    cout << \"\\\\nEnter 2nd integer :: \";\\n    cin >> second;\\n\\n    sum = first + second;\\n\\n    cout<<\"\\\\nSum of Two Numbers [ \"<<first<<\" + \"<<second<<\" ] = \"<<sum<<\"\\\\n\";\\n\\n    return 0;\\n}'\n",
            "b'#include <iostream>\\nusing namespace std;\\n\\nint main()\\n{\\n    int number;\\n\\n    cout << \"Enter an integer :: \";\\n    cin >> number;\\n\\n    cout << \"\\\\nThe Number entered is :: \" << number<<\"\\\\n\";\\n    return 0;\\n}'\n"
          ]
        }
      ],
      "source": [
        "for pb_examples in train_pb.batch(2).take(1):\n",
        "  for ex in pb_examples:\n",
        "    print(ex.numpy())\n",
        "print()\n",
        "for sol_examples in train_sl.batch(2).take(1):\n",
        "  for ex in sol_examples:\n",
        "    print(ex.numpy())"
      ]
    },
    {
      "cell_type": "code",
      "execution_count": null,
      "metadata": {
        "id": "egr09MG6yFdS",
        "colab": {
          "base_uri": "https://localhost:8080/"
        },
        "outputId": "5a47ba27-9863-4a99-c806-9e9d30fdcf01"
      },
      "outputs": [
        {
          "output_type": "stream",
          "name": "stdout",
          "text": [
            "[76, 39, 41, 14, 14, 71, 72, 41, 14, 14, 71, 72, 175, 86, 85]\n",
            "[76, 39, 41, 14, 14, 71, 72, 146, 80, 11, 299, 98, 110, 73, 194, 12]\n"
          ]
        }
      ],
      "source": [
        "# Tokenize the examples -> (batch, word, word-piece)\n",
        "token_batch_prob = prob_tokenizer.tokenize(pb_examples)\n",
        "# Merge the word and word-piece axes -> (batch, tokens)\n",
        "token_batch_prob = token_batch_prob.merge_dims(-2,-1)\n",
        "\n",
        "for ex in token_batch_prob.to_list():\n",
        "  print(ex)"
      ]
    },
    {
      "cell_type": "code",
      "execution_count": null,
      "metadata": {
        "id": "cmqe9R-0q3If",
        "colab": {
          "base_uri": "https://localhost:8080/"
        },
        "outputId": "d1cd1093-3723-460d-c15a-2ab8ecda4967"
      },
      "outputs": [
        {
          "output_type": "stream",
          "name": "stdout",
          "text": [
            "[6, 83, 31, 95, 33, 84, 92, 85, 30, 75, 89, 11, 12, 66, 75, 112, 15, 159, 15, 102, 30, 76, 31, 31, 5, 105, 341, 279, 29, 29, 5, 30, 90, 33, 33, 112, 30, 76, 31, 31, 5, 36, 118, 361, 279, 29, 29, 5, 30, 90, 33, 33, 159, 30, 102, 32, 112, 14, 159, 30, 76, 31, 31, 5, 36, 810, 77, 141, 148, 35, 5, 31, 31, 112, 31, 31, 5, 14, 5, 31, 31, 159, 31, 31, 5, 37, 32, 5, 31, 31, 102, 31, 31, 5, 36, 53, 5, 30, 78, 19, 30, 68]\n",
            "[6, 83, 31, 95, 33, 84, 92, 85, 30, 75, 89, 11, 12, 66, 75, 96, 30, 76, 31, 31, 5, 105, 155, 279, 29, 29, 5, 30, 90, 33, 33, 96, 30, 76, 31, 31, 5, 36, 227, 96, 357, 86, 29, 29, 5, 31, 31, 96, 31, 31, 5, 36, 53, 5, 30, 78, 19, 30, 68]\n"
          ]
        }
      ],
      "source": [
        "\n",
        "\n",
        "# Tokenize the examples -> (batch, word, word-piece)\n",
        "token_batch_sol = sol_tokenizer.tokenize(sol_examples)\n",
        "# Merge the word and word-piece axes -> (batch, tokens)\n",
        "token_batch_sol = token_batch_sol.merge_dims(-2,-1)\n",
        "\n",
        "for ex in token_batch_sol.to_list():\n",
        "  print(ex)"
      ]
    },
    {
      "cell_type": "code",
      "execution_count": null,
      "metadata": {
        "id": "Tok5EZJIq8L4",
        "colab": {
          "base_uri": "https://localhost:8080/"
        },
        "outputId": "674b21c4-c342-43d5-a279-7686ef14b58a"
      },
      "outputs": [
        {
          "output_type": "execute_result",
          "data": {
            "text/plain": [
              "<tf.Tensor: shape=(2,), dtype=string, numpy=\n",
              "array([b'write a c + + program to c + + program to add two numbers',\n",
              "       b'write a c + + program to display number ( enter ##ed by the user )'],\n",
              "      dtype=object)>"
            ]
          },
          "metadata": {},
          "execution_count": 59
        }
      ],
      "source": [
        "# Lookup each token id in the vocabulary.\n",
        "txt_tokens_prob = tf.gather(prob_vocab, token_batch_prob)\n",
        "# Join with spaces.\n",
        "tf.strings.reduce_join(txt_tokens_prob, separator=' ', axis=-1)\n",
        "\n"
      ]
    },
    {
      "cell_type": "code",
      "execution_count": null,
      "metadata": {
        "id": "D-Spm6HtrBOl",
        "colab": {
          "base_uri": "https://localhost:8080/"
        },
        "outputId": "fdeae3b7-364a-4d2d-8475-2a4646a09010"
      },
      "outputs": [
        {
          "output_type": "execute_result",
          "data": {
            "text/plain": [
              "<tf.Tensor: shape=(2,), dtype=string, numpy=\n",
              "array([b'# include < iostream > using namespace std ; int main ( ) { int first , second , sum ; cout < < \" enter 1st integer : : \" ; cin > > first ; cout < < \" \\\\ nenter 2nd integer : : \" ; cin > > second ; sum = first + second ; cout < < \" \\\\ nsum of two numbers [ \" < < first < < \" + \" < < second < < \" ] = \" < < sum < < \" \\\\ n \" ; return 0 ; }',\n",
              "       b'# include < iostream > using namespace std ; int main ( ) { int number ; cout < < \" enter an integer : : \" ; cin > > number ; cout < < \" \\\\ nthe number entered is : : \" < < number < < \" \\\\ n \" ; return 0 ; }'],\n",
              "      dtype=object)>"
            ]
          },
          "metadata": {},
          "execution_count": 60
        }
      ],
      "source": [
        "prob_words = prob_tokenizer.detokenize(token_batch_prob)\n",
        "tf.strings.reduce_join(prob_words, separator=' ', axis=-1)\n",
        "\n",
        "sol_words = sol_tokenizer.detokenize(token_batch_sol)\n",
        "tf.strings.reduce_join(sol_words, separator=' ', axis=-1)"
      ]
    },
    {
      "cell_type": "code",
      "execution_count": null,
      "metadata": {
        "id": "XZX5f4QfrGGS"
      },
      "outputs": [],
      "source": [
        "START = tf.argmax(tf.constant(reserved_tokens) == \"[START]\")\n",
        "END = tf.argmax(tf.constant(reserved_tokens) == \"[END]\")\n",
        "\n",
        "def add_start_end(ragged):\n",
        "  count = ragged.bounding_shape()[0]\n",
        "  starts = tf.fill([count,1], START)\n",
        "  ends = tf.fill([count,1], END)\n",
        "  return tf.concat([starts, ragged, ends], axis=1)"
      ]
    },
    {
      "cell_type": "code",
      "execution_count": null,
      "metadata": {
        "id": "RxDkRiARSHIn",
        "colab": {
          "base_uri": "https://localhost:8080/"
        },
        "outputId": "cc8cbf00-c927-4d59-f562-a79c1c853401"
      },
      "outputs": [
        {
          "output_type": "execute_result",
          "data": {
            "text/plain": [
              "<tf.Tensor: shape=(2,), dtype=string, numpy=\n",
              "array([b'[START] write a c + + program to c + + program to add two numbers [END]',\n",
              "       b'[START] write a c + + program to display number ( entered by the user ) [END]'],\n",
              "      dtype=object)>"
            ]
          },
          "metadata": {},
          "execution_count": 62
        }
      ],
      "source": [
        "prob_words = prob_tokenizer.detokenize(add_start_end(token_batch_prob))\n",
        "tf.strings.reduce_join(prob_words, separator=' ', axis=-1)"
      ]
    },
    {
      "cell_type": "code",
      "execution_count": null,
      "metadata": {
        "id": "eIOn2I4SSxzk",
        "colab": {
          "base_uri": "https://localhost:8080/"
        },
        "outputId": "846ac0a7-0478-4d08-dc33-3747b619e0e5"
      },
      "outputs": [
        {
          "output_type": "execute_result",
          "data": {
            "text/plain": [
              "<tf.Tensor: shape=(2,), dtype=string, numpy=\n",
              "array([b'[START] # include < iostream > using namespace std ; int main ( ) { int first , second , sum ; cout < < \" enter 1st integer : : \" ; cin > > first ; cout < < \" \\\\ nenter 2nd integer : : \" ; cin > > second ; sum = first + second ; cout < < \" \\\\ nsum of two numbers [ \" < < first < < \" + \" < < second < < \" ] = \" < < sum < < \" \\\\ n \" ; return 0 ; } [END]',\n",
              "       b'[START] # include < iostream > using namespace std ; int main ( ) { int number ; cout < < \" enter an integer : : \" ; cin > > number ; cout < < \" \\\\ nthe number entered is : : \" < < number < < \" \\\\ n \" ; return 0 ; } [END]'],\n",
              "      dtype=object)>"
            ]
          },
          "metadata": {},
          "execution_count": 63
        }
      ],
      "source": [
        "sol_words = sol_tokenizer.detokenize(add_start_end(token_batch_sol))\n",
        "tf.strings.reduce_join(sol_words, separator=' ', axis=-1)"
      ]
    },
    {
      "cell_type": "code",
      "execution_count": null,
      "metadata": {
        "id": "q1XPpqHBrJG0"
      },
      "outputs": [],
      "source": [
        "def cleanup_text(reserved_tokens, token_txt):\n",
        "  # Drop the reserved tokens, except for \"[UNK]\".\n",
        "  bad_tokens = [re.escape(tok) for tok in reserved_tokens if tok != \"[UNK]\"]\n",
        "  bad_token_re = \"|\".join(bad_tokens)\n",
        "    \n",
        "  bad_cells = tf.strings.regex_full_match(token_txt, bad_token_re)\n",
        "  result = tf.ragged.boolean_mask(token_txt, ~bad_cells)\n",
        "\n",
        "  # Join them into strings.\n",
        "  result = tf.strings.reduce_join(result, separator=' ', axis=-1)\n",
        "\n",
        "  return result"
      ]
    },
    {
      "cell_type": "code",
      "execution_count": null,
      "metadata": {
        "id": "5sJTDXpFTAyS",
        "colab": {
          "base_uri": "https://localhost:8080/"
        },
        "outputId": "363cef74-d639-4d59-fca3-85e73c1f3783"
      },
      "outputs": [
        {
          "output_type": "execute_result",
          "data": {
            "text/plain": [
              "<tf.RaggedTensor [[b'#', b'include', b'<', b'iostream', b'>', b'using', b'namespace', b'std',\n",
              "  b';', b'int', b'main', b'(', b')', b'{', b'int', b'first', b',',\n",
              "  b'second', b',', b'sum', b';', b'cout', b'<', b'<', b'\"', b'enter',\n",
              "  b'1st', b'integer', b':', b':', b'\"', b';', b'cin', b'>', b'>', b'first',\n",
              "  b';', b'cout', b'<', b'<', b'\"', b'\\\\', b'nenter', b'2nd', b'integer',\n",
              "  b':', b':', b'\"', b';', b'cin', b'>', b'>', b'second', b';', b'sum', b'=',\n",
              "  b'first', b'+', b'second', b';', b'cout', b'<', b'<', b'\"', b'\\\\',\n",
              "  b'nsum', b'of', b'two', b'numbers', b'[', b'\"', b'<', b'<', b'first',\n",
              "  b'<', b'<', b'\"', b'+', b'\"', b'<', b'<', b'second', b'<', b'<', b'\"',\n",
              "  b']', b'=', b'\"', b'<', b'<', b'sum', b'<', b'<', b'\"', b'\\\\', b'n', b'\"',\n",
              "  b';', b'return', b'0', b';', b'}']                                        ,\n",
              " [b'#', b'include', b'<', b'iostream', b'>', b'using', b'namespace', b'std',\n",
              "  b';', b'int', b'main', b'(', b')', b'{', b'int', b'number', b';', b'cout',\n",
              "  b'<', b'<', b'\"', b'enter', b'an', b'integer', b':', b':', b'\"', b';',\n",
              "  b'cin', b'>', b'>', b'number', b';', b'cout', b'<', b'<', b'\"', b'\\\\',\n",
              "  b'nthe', b'number', b'entered', b'is', b':', b':', b'\"', b'<', b'<',\n",
              "  b'number', b'<', b'<', b'\"', b'\\\\', b'n', b'\"', b';', b'return', b'0',\n",
              "  b';', b'}']                                                               ]>"
            ]
          },
          "metadata": {},
          "execution_count": 65
        }
      ],
      "source": [
        "token_batch = sol_tokenizer.tokenize(sol_examples).merge_dims(-2,-1)\n",
        "words =sol_tokenizer.detokenize(token_batch)\n",
        "words"
      ]
    },
    {
      "cell_type": "code",
      "execution_count": null,
      "metadata": {
        "id": "Rn9Nt4y0THbS",
        "colab": {
          "base_uri": "https://localhost:8080/"
        },
        "outputId": "1ebf9bcf-128e-46d8-c03b-d127d9e47961"
      },
      "outputs": [
        {
          "output_type": "execute_result",
          "data": {
            "text/plain": [
              "array([b'# include < iostream > using namespace std ; int main ( ) { int first , second , sum ; cout < < \" enter 1st integer : : \" ; cin > > first ; cout < < \" \\\\ nenter 2nd integer : : \" ; cin > > second ; sum = first + second ; cout < < \" \\\\ nsum of two numbers [ \" < < first < < \" + \" < < second < < \" ] = \" < < sum < < \" \\\\ n \" ; return 0 ; }',\n",
              "       b'# include < iostream > using namespace std ; int main ( ) { int number ; cout < < \" enter an integer : : \" ; cin > > number ; cout < < \" \\\\ nthe number entered is : : \" < < number < < \" \\\\ n \" ; return 0 ; }'],\n",
              "      dtype=object)"
            ]
          },
          "metadata": {},
          "execution_count": 66
        }
      ],
      "source": [
        "cleanup_text(reserved_tokens, words).numpy()"
      ]
    },
    {
      "cell_type": "code",
      "execution_count": null,
      "metadata": {
        "id": "j8JuhlqZrP7i"
      },
      "outputs": [],
      "source": [
        "class CustomTokenizer(tf.Module):\n",
        "  def __init__(self, reserved_tokens, vocab_path):\n",
        "    self.tokenizer = text.BertTokenizer(vocab_path, lower_case=True)\n",
        "    self._reserved_tokens = reserved_tokens\n",
        "    self._vocab_path = tf.saved_model.Asset(vocab_path)\n",
        "\n",
        "    vocab = pathlib.Path(vocab_path).read_text().splitlines()\n",
        "    self.vocab = tf.Variable(vocab)\n",
        "\n",
        "    ## Create the signatures for export:   \n",
        "\n",
        "    # Include a tokenize signature for a batch of strings. \n",
        "    self.tokenize.get_concrete_function(\n",
        "        tf.TensorSpec(shape=[None], dtype=tf.string))\n",
        "\n",
        "    # Include `detokenize` and `lookup` signatures for:\n",
        "    #   * `Tensors` with shapes [tokens] and [batch, tokens]\n",
        "    #   * `RaggedTensors` with shape [batch, tokens]\n",
        "    self.detokenize.get_concrete_function(\n",
        "        tf.TensorSpec(shape=[None, None], dtype=tf.int64))\n",
        "    self.detokenize.get_concrete_function(\n",
        "          tf.RaggedTensorSpec(shape=[None, None], dtype=tf.int64))\n",
        "\n",
        "    self.lookup.get_concrete_function(\n",
        "        tf.TensorSpec(shape=[None, None], dtype=tf.int64))\n",
        "    self.lookup.get_concrete_function(\n",
        "          tf.RaggedTensorSpec(shape=[None, None], dtype=tf.int64))\n",
        "\n",
        "    # These `get_*` methods take no arguments\n",
        "    self.get_vocab_size.get_concrete_function()\n",
        "    self.get_vocab_path.get_concrete_function()\n",
        "    self.get_reserved_tokens.get_concrete_function()\n",
        "\n",
        "  @tf.function\n",
        "  def tokenize(self, strings):\n",
        "    enc = self.tokenizer.tokenize(strings)\n",
        "    # Merge the `word` and `word-piece` axes.\n",
        "    enc = enc.merge_dims(-2,-1)\n",
        "    enc = add_start_end(enc)\n",
        "    return enc\n",
        "\n",
        "  @tf.function\n",
        "  def detokenize(self, tokenized):\n",
        "    words = self.tokenizer.detokenize(tokenized)\n",
        "    return cleanup_text(self._reserved_tokens, words)\n",
        "\n",
        "  @tf.function\n",
        "  def lookup(self, token_ids):\n",
        "    return tf.gather(self.vocab, token_ids)\n",
        "\n",
        "  @tf.function\n",
        "  def get_vocab_size(self):\n",
        "    return tf.shape(self.vocab)[0]\n",
        "\n",
        "  @tf.function\n",
        "  def get_vocab_path(self):\n",
        "    return self._vocab_path\n",
        "\n",
        "  @tf.function\n",
        "  def get_reserved_tokens(self):\n",
        "    return tf.constant(self._reserved_tokens)"
      ]
    },
    {
      "cell_type": "code",
      "execution_count": null,
      "metadata": {
        "id": "tnjtn6MMrXK_"
      },
      "outputs": [],
      "source": [
        "tokenizers = tf.Module()\n",
        "tokenizers.prob = CustomTokenizer(reserved_tokens, '/content/prob_vocab.txt')\n",
        "tokenizers.sol = CustomTokenizer(reserved_tokens, '/content/sol_vocab.txt')"
      ]
    },
    {
      "cell_type": "code",
      "execution_count": null,
      "metadata": {
        "id": "MEuIW9TPrX-U"
      },
      "outputs": [],
      "source": [
        "model_name = 'desc_to_code_converter'\n",
        "tf.saved_model.save(tokenizers, model_name)\n",
        "tf.saved_model.save(tokenizers,export_dir=\"drive/MyDrive/MajorProjectDesc2Cpp/Tokenizer/\")\n"
      ]
    },
    {
      "cell_type": "code",
      "source": [
        "!zip -r {model_name}.zip {model_name}"
      ],
      "metadata": {
        "id": "3Y1dIFDo1qg8",
        "colab": {
          "base_uri": "https://localhost:8080/"
        },
        "outputId": "636ad45d-b744-405d-8cdc-e0da6599963c"
      },
      "execution_count": null,
      "outputs": [
        {
          "output_type": "stream",
          "name": "stdout",
          "text": [
            "  adding: desc_to_code_converter/ (stored 0%)\n",
            "  adding: desc_to_code_converter/variables/ (stored 0%)\n",
            "  adding: desc_to_code_converter/variables/variables.index (deflated 33%)\n",
            "  adding: desc_to_code_converter/variables/variables.data-00000-of-00001 (deflated 47%)\n",
            "  adding: desc_to_code_converter/saved_model.pb (deflated 91%)\n",
            "  adding: desc_to_code_converter/assets/ (stored 0%)\n",
            "  adding: desc_to_code_converter/assets/sol_vocab.txt (deflated 48%)\n",
            "  adding: desc_to_code_converter/assets/prob_vocab.txt (deflated 46%)\n"
          ]
        }
      ]
    },
    {
      "cell_type": "code",
      "execution_count": null,
      "metadata": {
        "id": "vcswJKG4R6Wp"
      },
      "outputs": [],
      "source": [
        "# investigate the distribution of tokens per example in the dataset:\n",
        "\n",
        "lengths = []\n",
        "\n",
        "for p, s in train_data.batch(1024):\n",
        "  \n",
        "  prob_tokens = tokenizers.sol.tokenize(p)\n",
        "  lengths.append(prob_tokens.row_lengths())\n",
        "\n",
        "  sol_tokens = tokenizers.sol.tokenize(s)\n",
        "  lengths.append(sol_tokens.row_lengths())\n",
        "  # print('.', end='', flush=True)\n",
        "\n"
      ]
    },
    {
      "cell_type": "code",
      "execution_count": null,
      "metadata": {
        "id": "gRuXpQjM5tCy",
        "colab": {
          "base_uri": "https://localhost:8080/",
          "height": 281
        },
        "outputId": "914f436f-68b6-42b7-c89d-972e203c4df1"
      },
      "outputs": [
        {
          "output_type": "display_data",
          "data": {
            "text/plain": [
              "<Figure size 432x288 with 1 Axes>"
            ],
            "image/png": "[encoded data removed]"
          },
          "metadata": {
            "needs_background": "light"
          }
        }
      ],
      "source": [
        "all_lengths = np.concatenate(lengths)\n",
        "\n",
        "plt.hist(all_lengths, np.linspace(0, 3000))\n",
        "plt.ylim(plt.ylim())\n",
        "max_length = max(all_lengths)\n",
        "plt.plot([max_length, max_length], plt.ylim())\n",
        "plt.title(f'Max tokens per example: {max_length}');\n",
        "\n"
      ]
    }
  ]
}
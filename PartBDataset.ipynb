{
 "cells": [
  {
   "cell_type": "code",
   "execution_count": 10,
   "id": "b922e0d3",
   "metadata": {},
   "outputs": [],
   "source": [
    "import numpy as np\n",
    "import pandas as pd\n",
    "import re"
   ]
  },
  {
   "cell_type": "code",
   "execution_count": 27,
   "id": "8807b214",
   "metadata": {},
   "outputs": [],
   "source": [
    "dataset = pd.read_csv(r\"E:\\\\Nupur\\\\BEI-IV-I\\\\MajorProjectPartA\\\\CppdatasetPartB.csv\")\n"
   ]
  },
  {
   "cell_type": "code",
   "execution_count": 28,
   "id": "fe47da7e",
   "metadata": {
    "scrolled": false
   },
   "outputs": [
    {
     "data": {
      "text/html": [
       "<div>\n",
       "<style scoped>\n",
       "    .dataframe tbody tr th:only-of-type {\n",
       "        vertical-align: middle;\n",
       "    }\n",
       "\n",
       "    .dataframe tbody tr th {\n",
       "        vertical-align: top;\n",
       "    }\n",
       "\n",
       "    .dataframe thead th {\n",
       "        text-align: right;\n",
       "    }\n",
       "</style>\n",
       "<table border=\"1\" class=\"dataframe\">\n",
       "  <thead>\n",
       "    <tr style=\"text-align: right;\">\n",
       "      <th></th>\n",
       "      <th>Id</th>\n",
       "      <th>Problem</th>\n",
       "      <th>Solution</th>\n",
       "    </tr>\n",
       "  </thead>\n",
       "  <tbody>\n",
       "    <tr>\n",
       "      <th>0</th>\n",
       "      <td>1</td>\n",
       "      <td>Write a C++ Program to C++ Program to Add Two ...</td>\n",
       "      <td>#include &lt;iostream&gt;\\nusing namespace std;\\n\\ni...</td>\n",
       "    </tr>\n",
       "    <tr>\n",
       "      <th>1</th>\n",
       "      <td>2</td>\n",
       "      <td>Write a C++ Program to Display Number (Entered...</td>\n",
       "      <td>#include &lt;iostream&gt;\\nusing namespace std;\\n\\ni...</td>\n",
       "    </tr>\n",
       "    <tr>\n",
       "      <th>2</th>\n",
       "      <td>3</td>\n",
       "      <td>Write a C++ Program to Find Quotient and Remai...</td>\n",
       "      <td>#include &lt;iostream&gt;\\nusing namespace std;\\n\\ni...</td>\n",
       "    </tr>\n",
       "    <tr>\n",
       "      <th>3</th>\n",
       "      <td>4</td>\n",
       "      <td>Write a C++ Program to Swap Two Numbers withou...</td>\n",
       "      <td>#include &lt;iostream&gt;\\nusing namespace std;\\n\\ni...</td>\n",
       "    </tr>\n",
       "    <tr>\n",
       "      <th>4</th>\n",
       "      <td>5</td>\n",
       "      <td>Write a program to find size of int_._ float_....</td>\n",
       "      <td>#include &lt;iostream&gt;\\nusing namespace std;\\n\\ni...</td>\n",
       "    </tr>\n",
       "    <tr>\n",
       "      <th>5</th>\n",
       "      <td>6</td>\n",
       "      <td>Write a C++ Program to Multiply two Numbers</td>\n",
       "      <td>#include &lt;iostream&gt;\\nusing namespace std;\\n\\ni...</td>\n",
       "    </tr>\n",
       "    <tr>\n",
       "      <th>6</th>\n",
       "      <td>7</td>\n",
       "      <td>Write a C++ Program to Display ASCII Value of ...</td>\n",
       "      <td>#include &lt;iostream&gt;\\nusing namespace std;\\n\\ni...</td>\n",
       "    </tr>\n",
       "    <tr>\n",
       "      <th>7</th>\n",
       "      <td>8</td>\n",
       "      <td>Write a C++ Program to Generate Random Numbers...</td>\n",
       "      <td>#include&lt;iostream&gt;\\n#include&lt;stdlib.h&gt;\\nusing ...</td>\n",
       "    </tr>\n",
       "    <tr>\n",
       "      <th>8</th>\n",
       "      <td>9</td>\n",
       "      <td>Write a C++ Program to Find Sum and Average of...</td>\n",
       "      <td>#include&lt;iostream&gt;\\nusing namespace std;\\n\\nin...</td>\n",
       "    </tr>\n",
       "    <tr>\n",
       "      <th>9</th>\n",
       "      <td>10</td>\n",
       "      <td>Write a C++ Program to convert inches to feet ...</td>\n",
       "      <td>#include&lt;iostream&gt;\\nusing namespace std;\\n\\nin...</td>\n",
       "    </tr>\n",
       "  </tbody>\n",
       "</table>\n",
       "</div>"
      ],
      "text/plain": [
       "   Id                                            Problem  \\\n",
       "0   1  Write a C++ Program to C++ Program to Add Two ...   \n",
       "1   2  Write a C++ Program to Display Number (Entered...   \n",
       "2   3  Write a C++ Program to Find Quotient and Remai...   \n",
       "3   4  Write a C++ Program to Swap Two Numbers withou...   \n",
       "4   5  Write a program to find size of int_._ float_....   \n",
       "5   6        Write a C++ Program to Multiply two Numbers   \n",
       "6   7  Write a C++ Program to Display ASCII Value of ...   \n",
       "7   8  Write a C++ Program to Generate Random Numbers...   \n",
       "8   9  Write a C++ Program to Find Sum and Average of...   \n",
       "9  10  Write a C++ Program to convert inches to feet ...   \n",
       "\n",
       "                                            Solution  \n",
       "0  #include <iostream>\\nusing namespace std;\\n\\ni...  \n",
       "1  #include <iostream>\\nusing namespace std;\\n\\ni...  \n",
       "2  #include <iostream>\\nusing namespace std;\\n\\ni...  \n",
       "3  #include <iostream>\\nusing namespace std;\\n\\ni...  \n",
       "4  #include <iostream>\\nusing namespace std;\\n\\ni...  \n",
       "5  #include <iostream>\\nusing namespace std;\\n\\ni...  \n",
       "6  #include <iostream>\\nusing namespace std;\\n\\ni...  \n",
       "7  #include<iostream>\\n#include<stdlib.h>\\nusing ...  \n",
       "8  #include<iostream>\\nusing namespace std;\\n\\nin...  \n",
       "9  #include<iostream>\\nusing namespace std;\\n\\nin...  "
      ]
     },
     "execution_count": 28,
     "metadata": {},
     "output_type": "execute_result"
    }
   ],
   "source": [
    "dataset.head(10)"
   ]
  },
  {
   "cell_type": "code",
   "execution_count": 29,
   "id": "c69c74bc",
   "metadata": {},
   "outputs": [
    {
     "data": {
      "text/html": [
       "<div>\n",
       "<style scoped>\n",
       "    .dataframe tbody tr th:only-of-type {\n",
       "        vertical-align: middle;\n",
       "    }\n",
       "\n",
       "    .dataframe tbody tr th {\n",
       "        vertical-align: top;\n",
       "    }\n",
       "\n",
       "    .dataframe thead th {\n",
       "        text-align: right;\n",
       "    }\n",
       "</style>\n",
       "<table border=\"1\" class=\"dataframe\">\n",
       "  <thead>\n",
       "    <tr style=\"text-align: right;\">\n",
       "      <th></th>\n",
       "      <th>Id</th>\n",
       "      <th>Problem</th>\n",
       "      <th>Solution</th>\n",
       "    </tr>\n",
       "  </thead>\n",
       "  <tbody>\n",
       "    <tr>\n",
       "      <th>934</th>\n",
       "      <td>941</td>\n",
       "      <td>classes and static variables</td>\n",
       "      <td>using namespace std;\\nclass Banner\\n{\\npublic:...</td>\n",
       "    </tr>\n",
       "    <tr>\n",
       "      <th>935</th>\n",
       "      <td>942</td>\n",
       "      <td>destructors in c++ classes</td>\n",
       "      <td>#include &lt;iostream&gt;\\n#include &lt;string&gt;\\nusing ...</td>\n",
       "    </tr>\n",
       "    <tr>\n",
       "      <th>936</th>\n",
       "      <td>943</td>\n",
       "      <td>e MathStudent class for the Grade Calculation\\...</td>\n",
       "      <td>#include &lt;iostream&gt;\\n#include &lt;string&gt;\\nusing ...</td>\n",
       "    </tr>\n",
       "    <tr>\n",
       "      <th>937</th>\n",
       "      <td>944</td>\n",
       "      <td>create the ScienceStudent class for the Grade ...</td>\n",
       "      <td>#include &lt;iostream&gt;\\n#include &lt;string&gt;\\nusing ...</td>\n",
       "    </tr>\n",
       "    <tr>\n",
       "      <th>938</th>\n",
       "      <td>945</td>\n",
       "      <td>Using the Get() and Set() Methods</td>\n",
       "      <td>#include &lt;string&gt;\\nusing namespace std;\\nclass...</td>\n",
       "    </tr>\n",
       "  </tbody>\n",
       "</table>\n",
       "</div>"
      ],
      "text/plain": [
       "      Id                                            Problem  \\\n",
       "934  941                       classes and static variables   \n",
       "935  942                         destructors in c++ classes   \n",
       "936  943  e MathStudent class for the Grade Calculation\\...   \n",
       "937  944  create the ScienceStudent class for the Grade ...   \n",
       "938  945                  Using the Get() and Set() Methods   \n",
       "\n",
       "                                              Solution  \n",
       "934  using namespace std;\\nclass Banner\\n{\\npublic:...  \n",
       "935  #include <iostream>\\n#include <string>\\nusing ...  \n",
       "936  #include <iostream>\\n#include <string>\\nusing ...  \n",
       "937  #include <iostream>\\n#include <string>\\nusing ...  \n",
       "938  #include <string>\\nusing namespace std;\\nclass...  "
      ]
     },
     "execution_count": 29,
     "metadata": {},
     "output_type": "execute_result"
    }
   ],
   "source": [
    "dataset.tail()"
   ]
  },
  {
   "cell_type": "code",
   "execution_count": 30,
   "id": "f23beeca",
   "metadata": {
    "scrolled": true
   },
   "outputs": [
    {
     "data": {
      "text/plain": [
       "Id          939\n",
       "Problem     918\n",
       "Solution    903\n",
       "dtype: int64"
      ]
     },
     "execution_count": 30,
     "metadata": {},
     "output_type": "execute_result"
    }
   ],
   "source": [
    "dataset.nunique(axis=0)"
   ]
  },
  {
   "cell_type": "code",
   "execution_count": 31,
   "id": "444e0c04",
   "metadata": {},
   "outputs": [
    {
     "data": {
      "text/plain": [
       "False    939\n",
       "Name: Solution, dtype: int64"
      ]
     },
     "execution_count": 31,
     "metadata": {},
     "output_type": "execute_result"
    }
   ],
   "source": [
    "pd.isna(dataset['Solution']).value_counts()\n",
    "    \n"
   ]
  },
  {
   "cell_type": "code",
   "execution_count": 32,
   "id": "f95dbe53",
   "metadata": {
    "scrolled": true
   },
   "outputs": [
    {
     "data": {
      "text/plain": [
       "False    939\n",
       "Name: Problem, dtype: int64"
      ]
     },
     "execution_count": 32,
     "metadata": {},
     "output_type": "execute_result"
    }
   ],
   "source": [
    "pd.isna(dataset['Problem']).value_counts()"
   ]
  },
  {
   "cell_type": "code",
   "execution_count": 33,
   "id": "70043156",
   "metadata": {
    "scrolled": true
   },
   "outputs": [
    {
     "data": {
      "text/plain": [
       "False    939\n",
       "Name: Id, dtype: int64"
      ]
     },
     "execution_count": 33,
     "metadata": {},
     "output_type": "execute_result"
    }
   ],
   "source": [
    "pd.isna(dataset['Id']).value_counts()"
   ]
  },
  {
   "cell_type": "code",
   "execution_count": 34,
   "id": "6320033b",
   "metadata": {},
   "outputs": [
    {
     "data": {
      "text/plain": [
       "939"
      ]
     },
     "execution_count": 34,
     "metadata": {},
     "output_type": "execute_result"
    }
   ],
   "source": [
    "len(dataset)"
   ]
  }
 ],
 "metadata": {
  "kernelspec": {
   "display_name": "Python 3 (ipykernel)",
   "language": "python",
   "name": "python3"
  },
  "language_info": {
   "codemirror_mode": {
    "name": "ipython",
    "version": 3
   },
   "file_extension": ".py",
   "mimetype": "text/x-python",
   "name": "python",
   "nbconvert_exporter": "python",
   "pygments_lexer": "ipython3",
   "version": "3.9.7"
  }
 },
 "nbformat": 4,
 "nbformat_minor": 5
}
